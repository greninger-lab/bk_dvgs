{
 "cells": [
  {
   "cell_type": "code",
   "execution_count": null,
   "metadata": {},
   "outputs": [],
   "source": [
    "import os\n",
    "import glob\n",
    "import pandas as pd\n",
    "\n",
    "from IPython.core.interactiveshell import InteractiveShell\n",
    "InteractiveShell.ast_node_interactivity = \"all\"\n",
    "#os.chdir(\"/Users/quynh/Downloads/kapa_coverage\")"
   ]
  },
  {
   "cell_type": "code",
   "execution_count": null,
   "metadata": {},
   "outputs": [],
   "source": [
    "# import files\n",
    "input_files = []\n",
    "path = os.listdir('/Users/administrator/Desktop/BK-geneious/dvg-junctions/')\n",
    "for file in path:\n",
    "    if file.endswith(\".csv\"):\n",
    "        input_files.append(file)    \n",
    "input_files.sort()\n",
    "print(input_files)\n",
    "len(input_files)"
   ]
  },
  {
   "cell_type": "code",
   "execution_count": null,
   "metadata": {},
   "outputs": [],
   "source": [
    "cd /Users/administrator/Desktop/BK-geneious/dvg-junctions/"
   ]
  },
  {
   "cell_type": "code",
   "execution_count": null,
   "metadata": {},
   "outputs": [],
   "source": [
    "df1 = pd.read_csv(input_files[1], index_col=0)\n",
    "df1 = df1.drop([\"Length\", \"Reads supporting discovery\"], axis=1)\n",
    "df1 = df1.rename(columns={'Reads using':'Reads','Junction Type':'Type', \"Rearrangement Distance\":'Length'})\n",
    "df1['Minimum'] = df1['Minimum'].str.replace(\">\",\"\")\n",
    "df1['Minimum'] = df1['Minimum'].str.replace(\"<\",\"\")\n",
    "df1['Maximum'] = df1['Maximum'].str.replace(\">\",\"\")\n",
    "df1['Maximum'] = df1['Maximum'].str.replace(\"<\",\"\")\n",
    "Name_lst = []\n",
    "Start_lst = []\n",
    "End_lst = []\n",
    "Reads_lst = []\n",
    "Reads_lst = []\n",
    "Type_lst = []\n",
    "Length_lst = []\n",
    "df1 = df1.reset_index()"
   ]
  },
  {
   "cell_type": "code",
   "execution_count": null,
   "metadata": {},
   "outputs": [],
   "source": [
    "# For deletion\n",
    "df_deletion = df1.loc[df1.Type == 'Deletion','Name':]\n",
    "Name_lst = df_deletion['Name'].drop_duplicates()\n",
    "Name_lst = Name_lst.values.tolist()\n",
    "Start_lst = df_deletion.Minimum.tolist()\n",
    "End_lst = df_deletion.Maximum.tolist()\n",
    "Reads_lst = df_deletion['Reads']\n",
    "Reads_lst = Reads_lst.values.tolist()\n",
    "Length_lst = df_deletion['Length']\n",
    "Length_lst = Length_lst.values.tolist()\n",
    "Type_lst = ['Deletion']*len(Name_lst)\n",
    "\n",
    "# For rearrangement \n",
    "df_rep = df1.loc[df1.Type =='Rearrangement', 'Name':]\n",
    "\n",
    "temp_location = df_rep.Minimum.tolist()\n",
    "temp_length = df_rep.Length.tolist()\n",
    "for i in range(0,len(temp_location)):\n",
    "    if i % 2 == 1:\n",
    "        End_lst.append(temp_location[i])\n",
    "        Length_lst.append(temp_length[i])\n",
    "    else:\n",
    "        Start_lst.append(temp_location[i])\n",
    "\n",
    "Re_Name_lst = df_rep['Name'].drop_duplicates()\n",
    "Re_Name_lst = Re_Name_lst.values.tolist()\n",
    "for i in Re_Name_lst:\n",
    "    Name_lst.append(i)\n",
    "    \n",
    "Re_Reads_lst = df_rep['Reads']\n",
    "Re_Reads_lst = Re_Reads_lst[Re_Reads_lst.index % 2 == 0]\n",
    "Re_Reads_lst = Re_Reads_lst.values.tolist()\n",
    "for i in Re_Reads_lst:\n",
    "    Reads_lst.append(i)\n",
    "\n",
    "Type_lst = Type_lst + ['Rearrangement']*len(Re_Name_lst)   \n",
    "\n",
    "# For rearrangement (inversion)\n",
    "df_rep_inv = df1.loc[df1.Type =='Rearrangement (inversion)', 'Name':]\n",
    "\n",
    "temp_location_2 = df_rep_inv.Minimum.tolist()\n",
    "temp_length_2 = df_rep_inv.Length.tolist()\n",
    "for i in range(0,len(temp_location_2)):\n",
    "    if i % 2 == 1:\n",
    "        End_lst.append(temp_location_2[i])\n",
    "        Length_lst.append(temp_length_2[i])\n",
    "    else:\n",
    "        Start_lst.append(temp_location_2[i])\n",
    "\n",
    "Re_Name_lst = df_rep_inv['Name'].drop_duplicates()\n",
    "Re_Name_lst = Re_Name_lst.values.tolist()\n",
    "for i in Re_Name_lst:\n",
    "    Name_lst.append(i)\n",
    "    \n",
    "Re_Reads_lst = df_rep_inv['Reads']\n",
    "Re_Reads_lst = Re_Reads_lst[Re_Reads_lst.index % 2 == 0]\n",
    "Re_Reads_lst = Re_Reads_lst.values.tolist()\n",
    "for i in Re_Reads_lst:\n",
    "    Reads_lst.append(i)\n",
    "\n",
    "Type_lst = Type_lst + ['Rearrangement (inversion)']*len(Re_Name_lst)   \n",
    "\n",
    "# Create length list\n",
    "#Length_lst = []\n",
    "#for i in range(0,len(Name_lst)):\n",
    "#    length = abs(int(End_lst[i])-int(Start_lst[i]))\n",
    "#    Length_lst.append(length)\n",
    "\n",
    "print(len(Name_lst))\n",
    "print(len(Start_lst))\n",
    "print(len(End_lst))\n",
    "print(len(Reads_lst))\n",
    "print(len(Type_lst))\n",
    "print(len(Length_lst))\n"
   ]
  },
  {
   "cell_type": "code",
   "execution_count": null,
   "metadata": {},
   "outputs": [],
   "source": [
    "# create table\n",
    "UBk_data = {'Name':Name_lst, 'Start':Start_lst, 'End':End_lst, 'Length':Length_lst, 'Reads':Reads_lst,'Type':Type_lst}\n",
    "ubk_df = pd.DataFrame(UBk_data)\n",
    "ubk_df = ubk_df.sort_values(by=['Reads'], ascending=False)\n",
    "totalreads = ubk_df['Reads'].sum()\n",
    "print('total reads =',totalreads)\n",
    "ubk_df\n"
   ]
  },
  {
   "cell_type": "code",
   "execution_count": null,
   "metadata": {},
   "outputs": [],
   "source": [
    "ubk_df.to_excel('UBK007.xlsx', index=False)"
   ]
  },
  {
   "cell_type": "code",
   "execution_count": null,
   "metadata": {},
   "outputs": [],
   "source": [
    "# merge table\n",
    "extension2 = 'xlsx'\n",
    "all_files2 = [i for i in glob.glob('*.{}'.format(extension2))]\n",
    "all_files2\n"
   ]
  },
  {
   "cell_type": "code",
   "execution_count": null,
   "metadata": {},
   "outputs": [],
   "source": [
    "writer = pd.ExcelWriter('kapa-junctions.xlsx', engine='xlsxwriter')\n",
    "\n",
    "for f in all_files2[0:25]:\n",
    "    df = pd.read_excel(f, index_col='Name')\n",
    "    df.to_excel(writer, sheet_name=os.path.basename(f))\n",
    "    \n",
    "writer.save()"
   ]
  },
  {
   "cell_type": "markdown",
   "metadata": {},
   "source": [
    "## Add genes affected column"
   ]
  },
  {
   "cell_type": "code",
   "execution_count": null,
   "metadata": {},
   "outputs": [],
   "source": [
    "df = pd.read_excel('kapa-junctions.xlsx')\n",
    "df"
   ]
  },
  {
   "cell_type": "code",
   "execution_count": null,
   "metadata": {},
   "outputs": [],
   "source": [
    "ori = list(range(97,119))\n",
    "agno = list(range(388,588))\n",
    "vp2 = list(range(624,1679))\n",
    "vp3 = list(range(981,1679))\n",
    "vp1 = list(range(1564,2652))\n",
    "larget1 = list(range(2722,4566))\n",
    "larget2 = list(range(4911,5153))\n",
    "larget = larget1 + larget2\n",
    "smallt = list(range(4635,5153))\n",
    "start_lst = df.Start.tolist()\n",
    "end_lst = df.End.tolist()\n",
    "length = len(end_lst)\n",
    "all_gene = ['VP1','VP2','VP3',\"LargeT\",'SmallT','Agnoprotein']\n",
    "all_gene.sort()"
   ]
  },
  {
   "cell_type": "code",
   "execution_count": null,
   "metadata": {},
   "outputs": [],
   "source": [
    "gene_affected = []\n",
    "for i in range(0,length):\n",
    "    gene_lst = []\n",
    "    if start_lst[i] < end_lst[i]:\n",
    "        lst = list(range(start_lst[i],end_lst[i]+1))\n",
    "    if start_lst[i] > end_lst[i]:\n",
    "        lst = list(range(start_lst[i],5154)) + list(range(0,end_lst[i]+1))\n",
    "    for i in range(0,len(lst)):\n",
    "        #if lst[i] in ori:\n",
    "            #gene_lst.append(\"Ori\")\n",
    "        if lst[i] in agno:\n",
    "            gene_lst.append(\"Agnoprotein\")\n",
    "        if lst[i] in vp1:\n",
    "            gene_lst.append(\"VP1\")\n",
    "        if lst[i] in vp2:\n",
    "            gene_lst.append('VP2')\n",
    "        if lst[i] in vp3:\n",
    "            gene_lst.append('VP3')\n",
    "        if lst[i] in larget:\n",
    "            gene_lst.append('LargeT')\n",
    "        if lst[i] in smallt:\n",
    "            gene_lst.append('SmallT')            \n",
    "    gene_lst = list(set(gene_lst))\n",
    "    gene_lst.sort()\n",
    "    if gene_lst == all_gene:\n",
    "        gene_lst = [\"All\"]\n",
    "    if gene_lst == []:\n",
    "        gene_lst = ['None']\n",
    "\n",
    "    gene_affected.append(gene_lst)\n"
   ]
  },
  {
   "cell_type": "code",
   "execution_count": null,
   "metadata": {},
   "outputs": [],
   "source": [
    "df['Gene Affected'] = gene_affected\n",
    "df['Gene Affected'] = [', '.join(map(str, l)) for l in df['Gene Affected']]\n",
    "df.head()"
   ]
  },
  {
   "cell_type": "code",
   "execution_count": null,
   "metadata": {},
   "outputs": [],
   "source": [
    "df.to_excel('dvg-junctions-JC.xlsx', index=False)"
   ]
  }
 ],
 "metadata": {
  "kernelspec": {
   "display_name": "Python 3",
   "language": "python",
   "name": "python3"
  },
  "language_info": {
   "codemirror_mode": {
    "name": "ipython",
    "version": 3
   },
   "file_extension": ".py",
   "mimetype": "text/x-python",
   "name": "python",
   "nbconvert_exporter": "python",
   "pygments_lexer": "ipython3",
   "version": "3.7.6"
  }
 },
 "nbformat": 4,
 "nbformat_minor": 4
}
