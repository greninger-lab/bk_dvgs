{
 "cells": [
  {
   "cell_type": "code",
   "execution_count": null,
   "metadata": {},
   "outputs": [],
   "source": [
    "# Start with importing the packages\n",
    "%matplotlib inline\n",
    "\n",
    "from IPython.core.interactiveshell import InteractiveShell\n",
    "InteractiveShell.ast_node_interactivity = \"all\"\n",
    "\n",
    "import matplotlib as mpl\n",
    "from mpl_toolkits.mplot3d import Axes3D\n",
    "import numpy as np\n",
    "import matplotlib.pyplot as plt\n",
    "import pandas as pd\n",
    "from   sklearn.decomposition import PCA\n",
    "from   sklearn.manifold import TSNE\n",
    "from   sklearn.preprocessing import StandardScaler\n",
    "import scipy\n",
    "from scipy import stats\n",
    "import seaborn as sns\n",
    "from sklearn.cluster import KMeans\n",
    "from sklearn.metrics import confusion_matrix\n",
    "import statsmodels.stats.multitest as smm\n",
    "from statsmodels.formula.api import ols\n",
    "\n",
    "np.set_printoptions(suppress=True)\n",
    "np.set_printoptions(precision=4)\n",
    "plt_style = 'seaborn-notebook'\n",
    "pd.set_option('precision', 2)\n",
    "pd.set_option('max_columns',10)"
   ]
  },
  {
   "cell_type": "markdown",
   "metadata": {},
   "source": [
    "## import data table"
   ]
  },
  {
   "cell_type": "code",
   "execution_count": null,
   "metadata": {},
   "outputs": [],
   "source": [
    "df = pd.read_excel('ddpcr-data.xlsx')\n",
    "df = df.set_index('Isolate')\n",
    "print(df.shape)\n",
    "df.head()"
   ]
  },
  {
   "cell_type": "markdown",
   "metadata": {},
   "source": [
    "Table notes:\n",
    "DVG_2A column: based on NGS data\n",
    "DVG_2B column: based on ddpcr ratio, cut of at 1.2"
   ]
  },
  {
   "cell_type": "markdown",
   "metadata": {},
   "source": [
    "## Stats for BK box plot"
   ]
  },
  {
   "cell_type": "code",
   "execution_count": null,
   "metadata": {},
   "outputs": [],
   "source": [
    "## Stats for ddpcr-ratio vs DVGs\n",
    "DIPYes = df.loc[df.DVG_2A == 'Yes','CopiesmL':]\n",
    "DIPNo = df.loc[df.DVG_2A == 'No', 'CopiesmL':]\n",
    "# test the significance of the difference\n",
    "#stat, p = stats.ttest_ind(DIPYes.Final, DIPNo.Final, nan_policy='omit')\n",
    "stat, p = stats.kruskal(DIPYes.Final, DIPNo.Final, nan_policy='omit')\n",
    "print('p =', p)\n",
    "DIPYes.describe()\n",
    "DIPNo.describe()"
   ]
  },
  {
   "cell_type": "code",
   "execution_count": null,
   "metadata": {},
   "outputs": [],
   "source": [
    "## Stats for viral-load vs DVGs\n",
    "DIPYes2 = df.loc[df.DVG_2B == 'Yes','CopiesmL':]\n",
    "DIPNo2 = df.loc[df.DVG_2B == 'No', 'CopiesmL':]\n",
    "# test the significance of the difference0\n",
    "#stat2, p2 = stats.ttest_ind(DIPYes2.log, DIPNo2.log, nan_policy='omit')\n",
    "stat2, p2 = stats.kruskal(DIPYes2.log, DIPNo2.log, nan_policy='omit')\n",
    "print('p value for= ', p2)\n",
    "DIPYes2.describe()\n",
    "DIPNo2.describe()"
   ]
  },
  {
   "cell_type": "markdown",
   "metadata": {},
   "source": [
    "## Fig 2A: BK boxplot with VP/LT ratio"
   ]
  },
  {
   "cell_type": "code",
   "execution_count": null,
   "metadata": {},
   "outputs": [],
   "source": [
    "palette = ('#000000','#FF0000')\n",
    "sns.set_context(\"talk\")\n",
    "sns.set_style(style=\"white\")\n",
    "g = sns.catplot(x=\"DVG_2A\", y=\"Final\", data=df, hue='Notes',palette=palette)\n",
    "g._legend.remove()\n",
    "g = sns.boxplot(x=\"DVG_2A\", y=\"Final\", data=df, color = 'white',showfliers= False,linewidth=2.5)\n",
    "plt.yticks(np.arange(0, 4.5, step=0.5)) \n",
    "g.set(ylim=(0.5,3.9))\n",
    "plt.xlabel(\"DVGs Presence by Sequencing\",labelpad=20)\n",
    "plt.ylabel(\"VP:LargeT Ratio\",labelpad=10)\n",
    "x1, x2 = 0, 1   # columns 'Sat' and 'Sun' (first column: 0, see plt.xticks())\n",
    "y, h, col = 3.7, 0.10, 'k'\n",
    "plt.plot([x1, x1, x2, x2], [y, y+h, y+h, y], lw=1.5, c=col)\n",
    "label = \"Kruskal-Wallis test, p = 0.0002\"\n",
    "plt.text((x1+x2)*.5, y+h+h, label, ha='center', va='bottom', color=col, fontsize=14)\n",
    "#plt.plot([-0.5,1.5],[1.2,1.2],linestyle='dashed', color = 'red', linewidth = 1)\n",
    "#plt.legend(fontsize=\"x-small\", bbox_to_anchor=(1,1),loc='upper left')\n",
    "\n",
    "#plt.tight_layout()\n",
    "\n",
    "plt.savefig('ddpcr-fig2A_2.png', dpi=300,facecolor='white')\n",
    "\n",
    "plt.show()"
   ]
  },
  {
   "cell_type": "code",
   "execution_count": null,
   "metadata": {},
   "outputs": [],
   "source": [
    "plt.figure(figsize=(15,5))\n",
    "plt.savefig('ddpcr-fig2B_blank.png', dpi=300, facecolor='white')"
   ]
  },
  {
   "cell_type": "markdown",
   "metadata": {},
   "source": [
    "## Fig 2B: BK boxplot with viral load"
   ]
  },
  {
   "cell_type": "code",
   "execution_count": null,
   "metadata": {},
   "outputs": [],
   "source": [
    "sns.set_context(\"talk\")\n",
    "sns.set_style(style=\"white\")\n",
    "b = sns.catplot(x=\"DVG_2B\", y=\"log\", data=df, color='black')\n",
    "#g._legend.remove()\n",
    "b.set(ylim=(4,13))\n",
    "b = sns.boxplot(x=\"DVG_2B\", y=\"log\", data=df, color = 'white',showfliers= False,linewidth=2.5)\n",
    "plt.xlabel(\"DVGs Presence by ddPCR\",labelpad=20)\n",
    "plt.ylabel(\"log10 copies/mL\",labelpad=10)\n",
    "plt.yticks(np.arange(4, 13.5, step=1))\n",
    "x1, x2 = 0, 1   # (first column: 0, see plt.xticks())\n",
    "y, h, col = 12.5, 0.10, 'k'\n",
    "plt.plot([x1, x1, x2, x2], [y, y+h, y+h, y], lw=1.5, c=col)\n",
    "label = \"Kruskal-Wallis test, p = 0.0087\"\n",
    "plt.text((x1+x2)*.5, y+h+h, label, ha='center', va='bottom', color=col,fontsize=14)\n",
    "\n",
    "#plt.legend(fontsize=\"x-small\", bbox_to_anchor=(1,1),loc='upper left')\n",
    "plt.tight_layout()\n",
    "\n",
    "plt.savefig('ddpcr-fig2B_2.png', dpi=300, facecolor='white')\n",
    "\n",
    "plt.show()"
   ]
  },
  {
   "cell_type": "markdown",
   "metadata": {},
   "source": [
    "## Fig 2C: JC boxplot with VP/LT ratio"
   ]
  },
  {
   "cell_type": "code",
   "execution_count": null,
   "metadata": {},
   "outputs": [],
   "source": [
    "df2 = pd.read_excel('jcddpcr-data.xlsx')\n",
    "print(df2.shape)\n",
    "df2"
   ]
  },
  {
   "cell_type": "code",
   "execution_count": null,
   "metadata": {},
   "outputs": [],
   "source": [
    "DVGNo = df2.loc[df2.DVG == 'No/Unknown', 'Ratio':]\n",
    "DVGNo.describe()"
   ]
  },
  {
   "cell_type": "code",
   "execution_count": null,
   "metadata": {},
   "outputs": [],
   "source": [
    "sns.set_context(\"talk\")\n",
    "sns.set_style(style=\"white\")\n",
    "c = sns.catplot(x=\"DVG\", y=\"Ratio\", data=df2, color='black')\n",
    "#g._legend.remove()\n",
    "c = sns.boxplot(x=\"DVG\", y=\"Ratio\", data=df2, color = 'white',showfliers= False,linewidth=2.5)\n",
    "plt.xlabel(\"DVGs Presence by Sequencing\",labelpad=20)\n",
    "plt.ylabel(\"VP:LargeT Ratio\",labelpad=10)\n",
    "plt.yticks(np.arange(0.5, 1.4, step=0.1))\n",
    "#plt.legend(fontsize=\"x-small\", bbox_to_anchor=(1,1),loc='upper left')\n",
    "plt.tight_layout()\n",
    "plt.savefig('ddpcr-fig2C_2.png', dpi=300)\n",
    "plt.show()"
   ]
  },
  {
   "cell_type": "markdown",
   "metadata": {},
   "source": [
    "## old codes"
   ]
  },
  {
   "cell_type": "code",
   "execution_count": null,
   "metadata": {},
   "outputs": [],
   "source": [
    "palette = ('#F04DCA','#52C76D','#F78707','#3A62CF')\n",
    "#palette=dict(Yes=\"g\", No=\"m\")\n",
    "#fig33 = plt.figure()\n",
    "#BK = df.loc[df.Virus2 == 'BK+','Viral_Load':]\n",
    "fig33 = sns.lmplot(x=\"log\", y=\"Final\", data=df, scatter=False, line_kws={'color': '#848EE8',\"linewidth\": 1})\n",
    "fig33 = sns.scatterplot(x = df['log'], y = df['Final'], data=df, hue=\"DVG\")\n",
    "fig33.set_ylabel('VP:LargeT Ratio')\n",
    "fig33.set_xlabel('Log Viral Load')\n",
    "#fig33.set(ylim=(0.5,4))\n",
    "#plt.legend(fontsize=\"small\", bbox_to_anchor=(0.78,1),loc='upper left', title=None)\n",
    "plt.plot([4,11],[1,1], linestyle=\"dashed\", color = 'black', linewidth = 1)\n",
    "plt.show()\n",
    "#plt.savefig('ddpcr-scatter-withoutngs.png')\n",
    "\n"
   ]
  },
  {
   "cell_type": "code",
   "execution_count": null,
   "metadata": {},
   "outputs": [],
   "source": [
    "fig2 = plt.figure(figsize=(11,8))\n",
    "scat = fig2.add_subplot(111)\n",
    "scat.scatter(x = df.index, y = df['VP'], color='b')\n",
    "scat.scatter(x = df.index, y = df['LargeT'], color='k')\n",
    "scat.set_ylabel('Copies/25uL well')\n",
    "scat.set_xlabel('Sample ID')\n",
    "scat.set_ylim(-1,5100)\n",
    "fig2 = plt.xticks(df.index, df.index, rotation='vertical')\n",
    "plt.show()"
   ]
  },
  {
   "cell_type": "code",
   "execution_count": null,
   "metadata": {},
   "outputs": [],
   "source": [
    "#BK = df.loc[df.Virus2 == 'BK+','Viral_Load':]\n",
    "slope, intercept, r_value, p_value, std_err = stats.linregress(df['log'],df['Final'])\n",
    "print(\"Stats for all data:\", \"Slope =\",slope, \"r-squared =\" ,r_value**2, \"p-value = \", p_value)\n",
    "#fig44 = sns.lmplot(x=\"Log_load\", y=\"Ratio\", data=df, palette=palette, height=3, aspect=1, scatter=False)\n",
    "#plt.show()"
   ]
  }
 ],
 "metadata": {
  "kernelspec": {
   "display_name": "Python 3",
   "language": "python",
   "name": "python3"
  },
  "language_info": {
   "codemirror_mode": {
    "name": "ipython",
    "version": 3
   },
   "file_extension": ".py",
   "mimetype": "text/x-python",
   "name": "python",
   "nbconvert_exporter": "python",
   "pygments_lexer": "ipython3",
   "version": "3.7.6"
  }
 },
 "nbformat": 4,
 "nbformat_minor": 4
}
